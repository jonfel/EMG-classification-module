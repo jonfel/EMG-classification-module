{
 "cells": [
  {
   "cell_type": "markdown",
   "metadata": {},
   "source": [
    "## Definição do *dataset*\n",
    "\n",
    "O *dataset utilizado será o \"TOWARDS LIMB POSITION INVARIANT MYOELECTRIC PATTERN RECOGNITION USING TIME-DEPENDENT SPECTRAL FEATURES\" [1]. Maiores informações podem ser vistas no site: https://www.rami-khushaba.com/electromyogram-emg-repository.html\n",
    "\n",
    "Neste *dataset* existem 5 posições e 8 movimentos. Algumas questões de projetos foram levadas em consideração:\n",
    "1. A primeira posição (P1) possui 40.000 *samples* e todas as outras possuem 20.000 *samples*. Desta forma, a posição 1 foi **excluída** do experimento de teste;\n",
    "2. Cada posição possui 5 tentativas. Desta forma, serão utilizadas todas as tentativas do mesmo movimento como uma soma total de *samples* (todas as tentativas serão concatenadas);\n",
    "3. Como este experimento resultará em 4 posições e 8 movimentos, será considerado primeiramente um experimento com 32 classes (4 * 8) e um segundo experimento com 8 classes (somando/dispresando as posições do braço).\n",
    "\n",
    "[1] R. N. Khushaba, Maen Takruri, Jaime Valls Miro, and Sarath Kodagoda, \"Towards limb position invariant myoelectric pattern recognition using time-dependent spectral features\", Neural Networks, vol. 55, pp. 42-58, 2014. https://doi.org/10.1016/j.neunet.2014.03.010\n",
    "\n",
    "### Separação das classes"
   ]
  },
  {
   "cell_type": "code",
   "execution_count": 1,
   "metadata": {},
   "outputs": [],
   "source": [
    "from glob import glob\n",
    "\n",
    "# exclusão dos arquivos com \"Pos1\" no nome\n",
    "arquivos = glob(\"datasets/EMG_data/Pos[2-5]*.txt\")\n",
    "# índices para as 32 classes considerando as posições de 2 à 5\n",
    "cl32 = {\n",
    "    \"Pos2_HandOpen\": list(), \"Pos3_HandOpen\": list(), \"Pos4_HandOpen\": list(), \"Pos5_HandOpen\": list(),\n",
    "    \"Pos2_HandRest\": list(), \"Pos3_HandRest\": list(), \"Pos4_HandRest\": list(), \"Pos5_HandRest\": list(),\n",
    "    \"Pos2_ObjectGrip\": list(), \"Pos3_ObjectGrip\": list(), \"Pos4_ObjectGrip\": list(), \"Pos5_ObjectGrip\": list(),\n",
    "    \"Pos2_PichGrip\": list(), \"Pos3_PichGrip\": list(), \"Pos4_PichGrip\": list(), \"Pos5_PichGrip\": list(),\n",
    "    \"Pos2_WristExten\": list(), \"Pos3_WristExten\": list(), \"Pos4_WristExten\": list(), \"Pos5_WristExten\": list(),\n",
    "    \"Pos2_WristFlex\": list(), \"Pos3_WristFlex\": list(), \"Pos4_WristFlex\": list(), \"Pos5_WristFlex\": list(),\n",
    "    \"Pos2_WristPron\": list(), \"Pos3_WristPron\": list(), \"Pos4_WristPron\": list(), \"Pos5_WristPron\": list(),\n",
    "    \"Pos2_WristSupi\": list(), \"Pos3_WristSupi\": list(), \"Pos4_WristSupi\": list(), \"Pos5_WristSupi\": list(),\n",
    "}\n",
    "# índices para as 8 classes desconsiderando as posições de 2 à 5\n",
    "cl08 = {\n",
    "    \"HandOpen\": list(),\n",
    "    \"HandRest\": list(),\n",
    "    \"ObjectGrip\": list(),\n",
    "    \"PichGrip\": list(),\n",
    "    \"WristExten\": list(),\n",
    "    \"WristFlex\": list(),\n",
    "    \"WristPron\": list(),\n",
    "    \"WristSupi\": list(),\n",
    "}"
   ]
  },
  {
   "cell_type": "markdown",
   "metadata": {},
   "source": [
    "## Carregamento do *dataset*\n",
    "\n",
    "Neste trecho de código, todos as amostras serão dividas entre os conjuntos de calsses específicas"
   ]
  },
  {
   "cell_type": "code",
   "execution_count": 2,
   "metadata": {},
   "outputs": [],
   "source": [
    "import re\n",
    "\n",
    "for arquivo in arquivos:\n",
    "    trial_file = open(arquivo)\n",
    "    nome = trial_file.name.split('/')[-1].split('.')[0]\n",
    "    trial = list()\n",
    "    for linha in trial_file.readlines():\n",
    "        # foi necessário substituir os números \"int\" por \"float\"\n",
    "        linha = re.sub(r\"(?<=\\ )(\\d)(?=\\ )\", r\"\\1.0\", linha)\n",
    "        # casamento da linha com 7 pontos (1 para cada eletrodo)\n",
    "        sample = [float(s) for s in re.findall(r\"\\-?\\d\\.\\d+\", linha)]\n",
    "        trial.append(sample)\n",
    "    cl08[\"{}\".format(nome[5:-3])].append(trial)\n",
    "    cl32[\"Pos{}{}\".format(nome[3], nome[4:-3])].append(trial)"
   ]
  },
  {
   "cell_type": "markdown",
   "metadata": {},
   "source": [
    "Agora será realizado a divisão dos dados e suas respectivas classes em sequência, formando dados em `numpy.array` para X1 (dados EMG das 8 classes), y1 (*labels* das 8 classes), X2 (dados EMG das 32 classes), y2 (*labels* das 32 classes)"
   ]
  },
  {
   "cell_type": "code",
   "execution_count": 3,
   "metadata": {},
   "outputs": [
    {
     "name": "stdout",
     "output_type": "stream",
     "text": [
      "(8, 24, 20000, 7)\n",
      "(32, 6, 20000, 7)\n",
      "[0 1 2 3 4 5 6 7]\n",
      "[ 0  8 16 24  1  9 17 25  2 10 18 26  3 11 19 27  4 12 20 28  5 13 21 29\n",
      "  6 14 22 30  7 15 23 31]\n",
      "(8, 24, 7, 20000)\n",
      "(32, 6, 7, 20000)\n"
     ]
    }
   ],
   "source": [
    "import numpy as np\n",
    "from sklearn.preprocessing import LabelEncoder\n",
    "\n",
    "X1 = np.array(list(cl08.values()))\n",
    "X2 = np.array(list(cl32.values()))\n",
    "# transformando labels categóricos em numéricos\n",
    "le = LabelEncoder()\n",
    "y1 = np.array(le.fit_transform(list(cl08.keys())))\n",
    "y2 = np.array(le.fit_transform(list(cl32.keys())))\n",
    "# shape: [8 classes, 24 trials, 20000 samples, 7 eletrodos]\n",
    "print(X1.shape)\n",
    "# shape: [32 classes, 6 trials, 20000 samples, 7 eletrodos]\n",
    "print(X2.shape)\n",
    "print(y1)\n",
    "print(y2)\n",
    "\n",
    "X1 = X1.swapaxes(2, 3)\n",
    "X2 = X2.swapaxes(2, 3)\n",
    "print(X1.shape)\n",
    "print(X2.shape)"
   ]
  },
  {
   "cell_type": "markdown",
   "metadata": {},
   "source": [
    "## Segmentação dos dados ###\n",
    "\n",
    "Com amostras divididas em 10, 20, 40, 50, 80 e 90 partes e com tamanhos da sobreposição de ~10%, ~20%, ~30%, ~40%, ~50%, ~70%, ~90%:\n",
    "\n",
    "### Informações para segmentação nos dados no domínio do tempo:\n",
    "\n",
    "##### ~10% de sobreposição:\n",
    "* 10 partes = (salto = 1848, segmento = 2048);\n",
    "* 20 partes = (salto = 992,  segmento = 1128);\n",
    "* 40 partes = (salto = 496,   segmento = 562);\n",
    "* 50 partes = (salto = 398,   segmento = 436);\n",
    "* 80 partes = (salto = 248,   segmento = 272);\n",
    "* 90 partes = (salto = 220,   segmento = 244).\n",
    "\n",
    "##### ~20% de sobreposição:\n",
    "* 10 partes = (salto = 1920, segmento = 2400);\n",
    "* 20 partes = (salto = 986,  segmento = 1240);\n",
    "* 40 partes = (salto = 488,  segmento =  608);\n",
    "* 50 partes = (salto = 396,  segmento =  492);\n",
    "* 80 partes = (salto = 248,  segmento =  312); \n",
    "* 90 partes = (salto = 276,  segmento =  220).\n",
    "\n",
    "##### ~30% de sobreposição:\n",
    "* 10 partes = (salto = 1880, segmento = 2648);\n",
    "* 20 partes = (salto = 966,  segmento = 1380);\n",
    "* 40 partes = (salto = 492,  segmento =  702);\n",
    "* 50 partes = (salto = 392,  segmento =  560);\n",
    "* 80 partes = (salto = 248,  segmento =  352); \n",
    "* 90 partes = (salto = 220,  segmento =  312);\n",
    "\n",
    "##### ~40% de sobreposição:\n",
    "* 10 partes = (salto = 1766,segmento = 2944);\n",
    "* 20 partes = (salto = 924, segmento = 1540);\n",
    "* 40 partes = (salto = 484, segmento = 808 );\n",
    "* 50 partes = (salto = 394, segmento = 656 );\n",
    "* 80 partes = (salto = 246, segmento = 410 ); \n",
    "* 90 partes = (salto = 220, segmento = 366 );\n",
    "\n",
    "##### ~50% de sobreposição:\n",
    "* 10 partes = (salto = 1792, segmento = 3584);\n",
    "* 20 partes = (salto = 928,  segmento = 1856);\n",
    "* 40 partes = (salto = 480,  segmento = 960 );\n",
    "* 50 partes = (salto = 392,  segmento = 784 );\n",
    "* 80 partes = (salto = 246,  segmento = 492 ); \n",
    "* 90 partes = (salto = 218,  segmento = 436 );\n",
    "\n",
    "##### ~70% de sobreposição:\n",
    "* 10 partes = (salto = 1536, segmento = 5120);\n",
    "* 20 partes = (salto = 864,  segmento = 2880);\n",
    "* 40 partes = (salto = 470,  segmento = 1568);\n",
    "* 50 partes = (salto = 380,  segmento = 1272);\n",
    "* 80 partes = (salto = 242,  segmento = 808 ); \n",
    "* 90 partes = (salto = 216,  segmento = 720 );\n",
    "\n",
    "##### ~90% de sobreposição:\n",
    "* 10 partes = (salto = 1024, segmento = 10240);\n",
    "* 20 partes = (salto = 686,  segmento = 6854 );\n",
    "* 40 partes = (salto = 404,  segmento = 4032 );\n",
    "* 50 partes = (salto = 336,  segmento = 3360 );\n",
    "* 80 partes = (salto = 224,  segmento = 2240 ); \n",
    "* 90 partes = (salto = 202,  segmento = 2016 )."
   ]
  },
  {
   "cell_type": "code",
   "execution_count": 4,
   "metadata": {},
   "outputs": [
    {
     "name": "stdout",
     "output_type": "stream",
     "text": [
      "(8, 24, 7, 20000)\n",
      "(8, 24, 7, 20, 2880)\n",
      "(32, 6, 7, 20000)\n",
      "(32, 6, 7, 20, 2880)\n"
     ]
    }
   ],
   "source": [
    "print(X1.shape)\n",
    "# definição do salto e do tamanho do segmento (segmento - salto = sobreposição)\n",
    "salto = 864\n",
    "segmento = 2880\n",
    "n_win = int((X1.shape[-1] - segmento) / salto) + 1\n",
    "ids = np.arange(n_win) * salto\n",
    "x_8 = np.array([X1[:,:,:,k:(k + segmento)] for k in ids]).transpose(1, 2, 3, 0, 4)\n",
    "print(x_8.shape)\n",
    "\n",
    "print(X2.shape)\n",
    "# definição do salto e do tamanho do segmento (segmento - salto = sobreposição)\n",
    "n_win = int((X2.shape[-1] - segmento) / salto) + 1\n",
    "ids = np.arange(n_win) * salto\n",
    "x_32 = np.array([X2[:,:,:,k:(k + segmento)] for k in ids]).transpose(1, 2, 3, 0, 4)\n",
    "print(x_32.shape)"
   ]
  },
  {
   "cell_type": "markdown",
   "metadata": {},
   "source": [
    "### Caracteristicas no domínio do tempo:\n",
    "\n",
    "* `Variance of EMG (VAR)`: \n",
    "    > $\\frac{1}{N-1}\\sum_{i=1}^{N}x_i^2$\n",
    "* `Root Mean Square (RMS)`:\n",
    "    > $\\sqrt{\\frac{1}{N-1}\\sum_{i=1}^{N}|x_i|^2}$\n",
    "* `Mean Absolute Value (MAV)`:\n",
    "    > $\\frac{1}{N}\\sum_{i=1}^{N}|x_i|$\n",
    "* `Zero Crossing (ZC)`:\n",
    "    > $\\sum_{i=1}^{N}sgn(-x_i x_{i+1})$\n",
    "  onde sgn(X) = 1 se X > 0 | 0 caso contrário\n",
    "* `Waveform length (WL)`:\n",
    "    > $\\sum_{i=1}^{N-1}|x_i-x_{i+1}|$\n",
    "* `Simple Square Integral (SSI)`:\n",
    "    > $\\sum_{i=1}^{N}x_i^2$"
   ]
  },
  {
   "cell_type": "code",
   "execution_count": 74,
   "metadata": {},
   "outputs": [
    {
     "name": "stdout",
     "output_type": "stream",
     "text": [
      "(5, 8, 24, 7, 20)\n",
      "(5, 32, 6, 7, 20)\n"
     ]
    }
   ],
   "source": [
    "#Features \n",
    "feats_8 = list()\n",
    "feats_32 = list()\n",
    "\n",
    "# VAR\n",
    "var_8  = np.sum(x_8 ** 2, axis=-1) / (np.prod(x_8.shape[:-1]) - 1)\n",
    "var_32 = np.sum(x_32 ** 2, axis=-1) / (np.prod(x_32.shape[:-1]) - 1)\n",
    "feats_8.append(var_8)\n",
    "feats_32.append(var_32)\n",
    "#print(var_8.shape)\n",
    "#print(var_32.shape)\n",
    "\n",
    "# RMS\n",
    "rms_8  = np.sqrt(np.sum(np.abs(x_8) ** 2, axis=-1) / (np.prod(x_8.shape[:-1]) - 1))\n",
    "rms_32 = np.sqrt(np.sum(np.abs(x_32) ** 2, axis=-1) / (np.prod(x_32.shape[:-1]) - 1))\n",
    "feats_8.append(rms_8)\n",
    "feats_32.append(rms_32)\n",
    "#print(rms_8.shape)\n",
    "#print(rms_32.shape)\n",
    "\n",
    "# MAV\n",
    "mav_8  = np.sum(np.abs(x_8), axis=-1) / (np.prod(x_8.shape[:-1]))\n",
    "mav_32 = np.sum(np.abs(x_32), axis=-1) / (np.prod(x_32.shape[:-1]))\n",
    "feats_8.append(mav_8)\n",
    "feats_32.append(mav_32)\n",
    "#print(mav_8.shape)\n",
    "#print(mav_32.shape)\n",
    "\n",
    "# ZC\n",
    "def zc(x):\n",
    "    for ind, value in np.ndenumerate(x):\n",
    "        i, j, k, l, m = ind\n",
    "        if (m+1 < x.shape[-1]): x[ind] = (1 if (((value*(-1))*x[i, j, k, l, m+1]) > 0) else 0)\n",
    "        else:\n",
    "            x[ind] = 0\n",
    "    return x\n",
    "\n",
    "#zc_8 = zc(x_8)                    #Descomentar para executar ZC na primeira vez\n",
    "#zc_8 = np.sum(zc_8, axis=-1)      #Descomentar para executar ZC (demorando um pouco..)\n",
    "#print(zc_8.shape)\n",
    "#zc_32 = zc(x_32)                  #Descomentar para executar ZC\n",
    "#zc_32 = np.sum(zc_32, axis=-1)    #Descomentar para executar ZC\n",
    "#print(zc_32.shape)\n",
    "\n",
    "#WL\n",
    "wl_8 = np.sum(np.abs(np.diff(x_8, axis=-1)), axis=-1)\n",
    "wl_32 = np.sum(np.abs(np.diff(x_32, axis=-1)), axis=-1)\n",
    "feats_8.append(wl_8)\n",
    "feats_32.append(wl_32)\n",
    "#print(wl_8.shape)\n",
    "#print(wl_32.shape)\n",
    "\n",
    "#SSI\n",
    "ssi_8 = np.sum(x_8 ** 2, axis=-1)\n",
    "ssi_32 = np.sum(x_32 ** 2, axis=-1)\n",
    "feats_8.append(ssi_8)\n",
    "feats_32.append(ssi_32)\n",
    "#print(ssi_8.shape)\n",
    "#print(ssi_32.shape)\n",
    "print(np.shape(feats_8))\n",
    "print(np.shape(feats_32))"
   ]
  },
  {
   "cell_type": "markdown",
   "metadata": {},
   "source": [
    "##### Transformação para domínio da frequencia\n",
    "\n",
    "##### ~10% de sobreposição:\n",
    "* 10 partes = (nperseg = 2560, noverlap = 256);\n",
    "* 20 partes = (nperseg = 1216, noverlap = 128);\n",
    "* 40 partes = (nperseg = 586,   noverlap = 60);\n",
    "* 50 partes = (nperseg = 464,   noverlap = 48);\n",
    "* 80 partes = (nperseg = 282,   noverlap = 28);\n",
    "* 90 partes = (nperseg = 250,   noverlap = 24).\n",
    "\n",
    "##### ~20% de sobreposição:\n",
    "* 10 partes = (nperseg = 2816, noverlap = 564);\n",
    "* 20 partes = (nperseg = 1344, noverlap = 268);\n",
    "* 40 partes = (nperseg = 656,  noverlap = 132);\n",
    "* 50 partes = (nperseg = 520,  noverlap = 104);\n",
    "* 80 partes = (nperseg = 318,   noverlap = 64);\n",
    "* 90 partes = (nperseg = 282,   noverlap = 56).\n",
    "\n",
    "##### ~30% de sobreposição:\n",
    "* 10 partes = (nperseg = 3200, noverlap = 960);\n",
    "* 20 partes = (nperseg = 1536, noverlap = 460);\n",
    "* 40 partes = (nperseg = 736,  noverlap = 220);\n",
    "* 50 partes = (nperseg = 592,  noverlap = 178);\n",
    "* 80 partes = (nperseg = 362,  noverlap = 108);\n",
    "* 90 partes = (nperseg = 324,   noverlap = 98).\n",
    "\n",
    "##### ~40% de sobreposição:\n",
    "* 10 partes = (nperseg = 3712, noverlap = 1484);\n",
    "* 20 partes = (nperseg = 1792,  noverlap = 716);\n",
    "* 40 partes = (nperseg = 864,   noverlap = 236);\n",
    "* 50 partes = (nperseg = 688,   noverlap = 276);\n",
    "* 80 partes = (nperseg = 424,   noverlap = 170);\n",
    "* 90 partes = (nperseg = 376,   noverlap = 150).\n",
    "\n",
    "##### ~50% de sobreposição:\n",
    "* 10 partes = (nperseg = 4480, noverlap = 2240);\n",
    "* 20 partes = (nperseg = 2176, noverlap = 1088);\n",
    "* 40 partes = (nperseg = 1048,  noverlap = 524);\n",
    "* 50 partes = (nperseg = 824,   noverlap = 412);\n",
    "* 80 partes = (nperseg = 512,   noverlap = 256);\n",
    "* 90 partes = (nperseg = 452,   noverlap = 226).\n",
    "\n",
    "##### ~70% de sobreposição:\n",
    "* 10 partes = (nperseg = 7680, noverlap = 5376);\n",
    "* 20 partes = (nperseg = 3584, noverlap = 2508);\n",
    "* 40 partes = (nperseg = 1728, noverlap = 1210);\n",
    "* 50 partes = (nperseg = 1376,  noverlap = 964);\n",
    "* 80 partes = (nperseg = 848,   noverlap = 594);\n",
    "* 90 partes = (nperseg = 752,   noverlap = 526).\n",
    "\n",
    "##### ~90% de sobreposição:\n",
    "* 10 partes = (nperseg = , noverlap = );\n",
    "* 20 partes = (nperseg = , noverlap = );\n",
    "* 40 partes = (nperseg = ,   noverlap = );\n",
    "* 50 partes = (nperseg = ,   noverlap = );\n",
    "* 80 partes = (nperseg = ,   noverlap = );\n",
    "* 90 partes = (nperseg = 2264,   noverlap = 2038)."
   ]
  },
  {
   "cell_type": "code",
   "execution_count": 214,
   "metadata": {},
   "outputs": [
    {
     "name": "stdout",
     "output_type": "stream",
     "text": [
      "(8, 24, 7, 20000)\n",
      "(8, 24, 7, 90, 377)\n",
      "(32, 6, 7, 20000)\n",
      "(32, 6, 7, 90, 377)\n"
     ]
    }
   ],
   "source": [
    "from scipy.signal import stft\n",
    "\n",
    "nperseg = 752\n",
    "noverlap = 526\n",
    "\n",
    "print(X1.shape)\n",
    "_, _, w = stft(X1, fs=4000, nperseg=nperseg, noverlap=noverlap)\n",
    "w = np.swapaxes(w, 3, 4)\n",
    "print(w.shape)\n",
    "\n",
    "print(X2.shape)\n",
    "_, _, z = stft(X2, fs=4000, nperseg=nperseg, noverlap=noverlap)\n",
    "z = np.swapaxes(z, 3, 4)\n",
    "print(z.shape)"
   ]
  },
  {
   "cell_type": "markdown",
   "metadata": {},
   "source": [
    "### Características no domínio da frequencia\n",
    "\n",
    "* `Frequency Median (FMD)`:\n",
    "    > $\\frac{1}{2}\\sum_{i=1}^{M}PSD$\n",
    "* `Modified Median Frequency (MMDF)`:\n",
    "    > $\\frac{1}{2}\\sum_{i=1}^{M}A_j$\n",
    "* `Mean Power (MP)`:\n",
    "    > $\\frac{1}{M}\\sum_{i=1}^{M}P_i$\n",
    "* `Peak Frequency (PKF)`:\n",
    "    > $max(P_i), i=1,...,M$"
   ]
  },
  {
   "cell_type": "code",
   "execution_count": 215,
   "metadata": {},
   "outputs": [
    {
     "name": "stdout",
     "output_type": "stream",
     "text": [
      "(4, 8, 24, 7, 90)\n",
      "(4, 32, 6, 7, 90)\n",
      "['FMD_8', 'MMDF_8', 'MP_8', 'PKF_8']\n"
     ]
    }
   ],
   "source": [
    "# definição da função PSD para o sinal no domínio da frequência\n",
    "feats_8 = list()\n",
    "label_8 = list()\n",
    "feats_32 = list()\n",
    "label_32 = list()\n",
    "\n",
    "def PSD(x):\n",
    "    return np.sqrt(np.abs(x))\n",
    "\n",
    "# FMD\n",
    "fmd_8 = np.sum(PSD(w), axis=-1) / 2\n",
    "fmd_32 = np.sum(PSD(z), axis=-1) / 2\n",
    "feats_8.append(fmd_8)\n",
    "label_8.append(\"FMD_8\")\n",
    "feats_32.append(fmd_32)\n",
    "label_32.append(\"FMD_32\")\n",
    "#print(fmd_8.shape)\n",
    "#print(fmd_32.shape)\n",
    "\n",
    "# MMDF\n",
    "mmdf_8 = np.sum(np.abs(w), axis=-1) / 2\n",
    "mmdf_32 = np.sum(np.abs(z), axis=-1) / 2\n",
    "feats_8.append(mmdf_8)\n",
    "label_8.append(\"MMDF_8\")\n",
    "feats_32.append(mmdf_32)\n",
    "label_32.append(\"MMDF_32\")\n",
    "#print(mmdf_8.shape)\n",
    "#print(mmdf_32.shape)\n",
    "\n",
    "#MP\n",
    "mp_8 = np.real(np.sum(w, axis=-1) / (np.prod(w.shape[:-1]))) \n",
    "mp_32 = np.real(np.sum(z, axis=-1) / (np.prod(z.shape[:-1])))\n",
    "feats_8.append(mp_8)\n",
    "label_8.append(\"MP_8\")\n",
    "feats_32.append(mp_32)\n",
    "label_32.append(\"MP_32\")\n",
    "#print(mp_8.shape)\n",
    "#print(mp_32.shape)\n",
    "\n",
    "#PKF\n",
    "pkf_8 = np.real(np.max(w, axis=-1))\n",
    "pkf_32 = np.real(np.max(z, axis=-1))\n",
    "feats_8.append(pkf_8)\n",
    "label_8.append(\"PKF_8\")\n",
    "feats_32.append(pkf_32)\n",
    "label_32.append(\"PKF_32\")\n",
    "#print(pkf_8.shape)\n",
    "#print(pkf_32.shape)\n",
    "print(np.shape(feats_8))\n",
    "print(np.shape(feats_32))\n",
    "\n",
    "print(label_8)"
   ]
  },
  {
   "cell_type": "markdown",
   "metadata": {},
   "source": [
    "### Vetor de características"
   ]
  },
  {
   "cell_type": "code",
   "execution_count": 216,
   "metadata": {},
   "outputs": [],
   "source": [
    "from itertools import combinations\n",
    "\n",
    "feats_8 = np.array(feats_8)\n",
    "feats_32 = np.array(feats_32)\n",
    "combination = list()\n",
    "labels = list()\n",
    "\n",
    "\n",
    "for k in range(1, feats_8.shape[0]+1):\n",
    "    combination.append([item for item in combinations(feats_8, k)])\n",
    "    labels.append([item for item in combinations(label_8, k)])\n",
    "#print(np.shape(combination[3]))\n",
    "#print(labels[3])"
   ]
  },
  {
   "cell_type": "markdown",
   "metadata": {},
   "source": [
    "###### Conjuntos de características:\n",
    "O código acima está gerando todas as possíveis combinações de características possível com o vetor de características. Para prosseguir é necessário definir 'i' e 'j' para informar o conjunto de caracteristicas desejado:\n",
    "\n",
    "* i = 0 trás os conjuntos com apenas 1 característica (4 disponíveis, selecionados com j de 0-3);\n",
    "* i = 1 trás os conjuntos com 2 características (6 disponíveis, selecionados com j de 0-5);\n",
    "* i = 2 trás os conjuntos com 3 características (4 disponíveis, selecionados com j de 0-3);\n",
    "* i = 3 trás o conjunto com 4 características (1 disponível, selecionado com j = 0)."
   ]
  },
  {
   "cell_type": "code",
   "execution_count": 225,
   "metadata": {},
   "outputs": [
    {
     "name": "stdout",
     "output_type": "stream",
     "text": [
      "('FMD_8', 'MMDF_8')\n",
      "Feature: [[ 2.76323758  3.52112934  9.94426616 ...  9.49723421  3.54607588\n",
      "   3.62889618]\n",
      " [ 3.02041296  4.12548136 10.66635833 ...  8.77859921  3.91902\n",
      "   3.18805993]\n",
      " [ 3.00819062  3.97240472 10.21424031 ...  8.14556518  3.98409807\n",
      "   2.95984028]\n",
      " ...\n",
      " [ 2.8793787   3.99035218  9.04965007 ...  5.90701622  3.44562055\n",
      "   2.87409651]\n",
      " [ 2.92746818  4.36327672 12.54447493 ...  6.27341908  4.53955258\n",
      "   3.23712201]\n",
      " [ 2.10985676  3.68935608  9.73266367 ...  4.46143762  3.57066271\n",
      "   2.52886543]] (17280, 7)\n",
      "Feature: [[0.08536189 0.1383412  1.07068966 ... 1.00751568 0.19556874 0.11633081]\n",
      " [0.11567221 0.25605113 1.5677787  ... 1.07299435 0.24137914 0.11080647]\n",
      " [0.11056268 0.24988913 1.6516249  ... 1.13385452 0.26091177 0.11136966]\n",
      " ...\n",
      " [0.09820147 0.24634067 1.32486938 ... 0.57146894 0.16761114 0.10559959]\n",
      " [0.10839831 0.23216726 1.51862026 ... 0.68733166 0.19272991 0.11586462]\n",
      " [0.05568333 0.14745475 0.68785415 ... 0.33703438 0.09558317 0.06277478]] (17280, 7)\n",
      "(2, 17280, 7)\n"
     ]
    },
    {
     "data": {
      "text/plain": [
       "(17280, 14)"
      ]
     },
     "execution_count": 225,
     "metadata": {},
     "output_type": "execute_result"
    }
   ],
   "source": [
    "i = 1\n",
    "j = 0\n",
    "\n",
    "print(labels[i][j])\n",
    "features = list()\n",
    "for feature in (combination[i][j]):\n",
    "    feature = np.array(feature)\n",
    "    feature = feature.transpose(0, 1, 3, 2)\n",
    "    feature = feature.reshape(feats_8.shape[1] * feats_8.shape[2] * feats_8.shape[-1], 7)\n",
    "    print('Feature: {}'.format(feature), feature.shape)\n",
    "    features.append(feature)\n",
    "    \n",
    "print(np.shape(features))\n",
    "\n",
    "X = np.concatenate(features, axis=-1)\n",
    "X.shape\n",
    "\n",
    "#features = list()\n",
    "#for feature in (fmd_32, mp_32):\n",
    "#    feature = feature.transpose(0, 1, 3, 2)\n",
    "#    feature = feature.reshape(var_32.shape[0] * var_32.shape[1] * var_32.shape[-1], 7)\n",
    "#    print('Feature: {}'.format(feature), feature.shape)\n",
    "#    features.append(feature)\n",
    "#\n",
    "#X = np.concatenate(features, axis=-1)\n",
    "#X.shape"
   ]
  },
  {
   "cell_type": "markdown",
   "metadata": {},
   "source": [
    "Vetor de labels"
   ]
  },
  {
   "cell_type": "code",
   "execution_count": 226,
   "metadata": {},
   "outputs": [
    {
     "data": {
      "text/plain": [
       "(17280,)"
      ]
     },
     "execution_count": 226,
     "metadata": {},
     "output_type": "execute_result"
    }
   ],
   "source": [
    "y = np.array([[str(i)] * int(X.shape[0] / 8) for i in range(8)]) #switch 8 - 32\n",
    "y = y.reshape(y.shape[0] * y.shape[1])\n",
    "y.shape"
   ]
  },
  {
   "cell_type": "markdown",
   "metadata": {},
   "source": [
    "## Classificador SVM"
   ]
  },
  {
   "cell_type": "code",
   "execution_count": 263,
   "metadata": {},
   "outputs": [
    {
     "data": {
      "text/plain": [
       "SVC(gamma='auto')"
      ]
     },
     "execution_count": 263,
     "metadata": {},
     "output_type": "execute_result"
    }
   ],
   "source": [
    "from sklearn.model_selection import train_test_split\n",
    "from sklearn.svm import SVC\n",
    "\n",
    "# treino e teste em 70 e 30% respectivamente\n",
    "X_train, X_test, y_train, y_test = train_test_split(X, y, test_size=0.3, shuffle=True)\n",
    "\n",
    "# testar outros classificadores e definir parametrização\n",
    "clf = SVC(gamma='auto')\n",
    "clf.fit(X_train, y_train)"
   ]
  },
  {
   "cell_type": "markdown",
   "metadata": {},
   "source": [
    "Rotina Simples"
   ]
  },
  {
   "cell_type": "code",
   "execution_count": 264,
   "metadata": {},
   "outputs": [
    {
     "name": "stdout",
     "output_type": "stream",
     "text": [
      "Acurácia: 96.59%\n"
     ]
    }
   ],
   "source": [
    "res = clf.predict(X_test)\n",
    "    \n",
    "tot_hit = sum([1 for i in range(len(res)) if res[i] == y_test[i]])\n",
    "print('Acurácia: {:.2f}%'.format(tot_hit / X_test.shape[0] * 100))"
   ]
  },
  {
   "cell_type": "markdown",
   "metadata": {},
   "source": [
    "### Resultados parciais com as 8 classe, 4 características e ~10% de sobreposição:\n",
    "\n",
    "###### 10 partes: 93.23%\n",
    "###### 20 partes: 91.75%\n",
    "###### 40 partes: 91.88%\n",
    "###### 50 partes: 90.31%\n",
    "###### 80 partes: 87.33%\n",
    "###### 90 partes: 85.47%\n",
    "\n",
    "### Resultados parciais com as 32 classe, 4 características e ~10% de sobreposição:\n",
    "\n",
    "###### 10 partes: 82.47%\n",
    "###### 20 partes: 84.90%\n",
    "###### 40 partes: 82.55%\n",
    "###### 50 partes: 78.82%\n",
    "###### 80 partes: 73.83%\n",
    "###### 90 partes: 70.93%"
   ]
  },
  {
   "cell_type": "code",
   "execution_count": null,
   "metadata": {},
   "outputs": [],
   "source": []
  }
 ],
 "metadata": {
  "kernelspec": {
   "display_name": "Python 3",
   "language": "python",
   "name": "python3"
  },
  "language_info": {
   "codemirror_mode": {
    "name": "ipython",
    "version": 3
   },
   "file_extension": ".py",
   "mimetype": "text/x-python",
   "name": "python",
   "nbconvert_exporter": "python",
   "pygments_lexer": "ipython3",
   "version": "3.6.7"
  }
 },
 "nbformat": 4,
 "nbformat_minor": 4
}
