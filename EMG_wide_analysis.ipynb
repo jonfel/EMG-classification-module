{
 "cells": [
  {
   "cell_type": "markdown",
   "metadata": {},
   "source": [
    "## Definição do *dataset*\n",
    "\n",
    "O *dataset utilizado será o \"TOWARDS LIMB POSITION INVARIANT MYOELECTRIC PATTERN RECOGNITION USING TIME-DEPENDENT SPECTRAL FEATURES\" [1]. Maiores informações podem ser vistas no site: https://www.rami-khushaba.com/electromyogram-emg-repository.html\n",
    "\n",
    "Neste *dataset* existem 5 posições e 8 movimentos. Algumas questões de projetos foram levadas em consideração:\n",
    "1. A primeira posição (P1) possui 40.000 *samples* e todas as outras possuem 20.000 *samples*. Desta forma, a posição 1 foi **excluída** do experimento de teste;\n",
    "2. Cada posição possui 5 tentativas. Desta forma, serão utilizadas todas as tentativas do mesmo movimento como uma soma total de *samples* (todas as tentativas serão concatenadas);\n",
    "3. Como este experimento resultará em 4 posições e 8 movimentos, será considerado primeiramente um experimento com 32 classes (4 * 8) e um segundo experimento com 8 classes (somando/dispresando as posições do braço).\n",
    "\n",
    "[1] R. N. Khushaba, Maen Takruri, Jaime Valls Miro, and Sarath Kodagoda, \"Towards limb position invariant myoelectric pattern recognition using time-dependent spectral features\", Neural Networks, vol. 55, pp. 42-58, 2014. https://doi.org/10.1016/j.neunet.2014.03.010\n",
    "\n",
    "### Separação das classes"
   ]
  },
  {
   "cell_type": "code",
   "execution_count": 1,
   "metadata": {},
   "outputs": [],
   "source": [
    "from glob import glob\n",
    "\n",
    "# exclusão dos arquivos com \"Pos1\" no nome\n",
    "arquivos = glob(\"datasets/EMG_data/Pos[2-5]*.txt\")\n",
    "# índices para as 32 classes considerando as posições de 2 à 5\n",
    "cl32 = {\n",
    "    \"Pos2_HandOpen\": list(), \"Pos3_HandOpen\": list(), \"Pos4_HandOpen\": list(), \"Pos5_HandOpen\": list(),\n",
    "    \"Pos2_HandRest\": list(), \"Pos3_HandRest\": list(), \"Pos4_HandRest\": list(), \"Pos5_HandRest\": list(),\n",
    "    \"Pos2_ObjectGrip\": list(), \"Pos3_ObjectGrip\": list(), \"Pos4_ObjectGrip\": list(), \"Pos5_ObjectGrip\": list(),\n",
    "    \"Pos2_PichGrip\": list(), \"Pos3_PichGrip\": list(), \"Pos4_PichGrip\": list(), \"Pos5_PichGrip\": list(),\n",
    "    \"Pos2_WristExten\": list(), \"Pos3_WristExten\": list(), \"Pos4_WristExten\": list(), \"Pos5_WristExten\": list(),\n",
    "    \"Pos2_WristFlex\": list(), \"Pos3_WristFlex\": list(), \"Pos4_WristFlex\": list(), \"Pos5_WristFlex\": list(),\n",
    "    \"Pos2_WristPron\": list(), \"Pos3_WristPron\": list(), \"Pos4_WristPron\": list(), \"Pos5_WristPron\": list(),\n",
    "    \"Pos2_WristSupi\": list(), \"Pos3_WristSupi\": list(), \"Pos4_WristSupi\": list(), \"Pos5_WristSupi\": list(),\n",
    "}\n",
    "# índices para as 8 classes desconsiderando as posições de 2 à 5\n",
    "cl08 = {\n",
    "    \"HandOpen\": list(),\n",
    "    \"HandRest\": list(),\n",
    "    \"ObjectGrip\": list(),\n",
    "    \"PichGrip\": list(),\n",
    "    \"WristExten\": list(),\n",
    "    \"WristFlex\": list(),\n",
    "    \"WristPron\": list(),\n",
    "    \"WristSupi\": list(),\n",
    "}"
   ]
  },
  {
   "cell_type": "markdown",
   "metadata": {},
   "source": [
    "## Carregamento do *dataset*\n",
    "\n",
    "Neste trecho de código, todos as amostras serão dividas entre os conjuntos de calsses específicas"
   ]
  },
  {
   "cell_type": "code",
   "execution_count": 2,
   "metadata": {},
   "outputs": [],
   "source": [
    "import re\n",
    "\n",
    "for arquivo in arquivos:\n",
    "    trial_file = open(arquivo)\n",
    "    nome = trial_file.name.split('/')[-1].split('.')[0]\n",
    "    trial = list()\n",
    "    for linha in trial_file.readlines():\n",
    "        # foi necessário substituir os números \"int\" por \"float\"\n",
    "        linha = re.sub(r\"(?<=\\ )(\\d)(?=\\ )\", r\"\\1.0\", linha)\n",
    "        # casamento da linha com 7 pontos (1 para cada eletrodo)\n",
    "        sample = [float(s) for s in re.findall(r\"\\-?\\d\\.\\d+\", linha)]\n",
    "        trial.append(sample)\n",
    "    cl08[\"{}\".format(nome[5:-3])].append(trial)\n",
    "    cl32[\"Pos{}{}\".format(nome[3], nome[4:-3])].append(trial)"
   ]
  },
  {
   "cell_type": "markdown",
   "metadata": {},
   "source": [
    "Agora será realizado a divisão dos dados e suas respectivas classes em sequência, formando dados em `numpy.array` para X1 (dados EMG das 8 classes), y1 (*labels* das 8 classes), X2 (dados EMG das 32 classes), y2 (*labels* das 32 classes)"
   ]
  },
  {
   "cell_type": "code",
   "execution_count": 4,
   "metadata": {},
   "outputs": [
    {
     "name": "stdout",
     "output_type": "stream",
     "text": [
      "(8, 24, 20000, 7)\n",
      "(32, 6, 20000, 7)\n",
      "[0 1 2 3 4 5 6 7]\n",
      "[ 0  8 16 24  1  9 17 25  2 10 18 26  3 11 19 27  4 12 20 28  5 13 21 29\n",
      "  6 14 22 30  7 15 23 31]\n",
      "(8, 24, 7, 20000)\n",
      "(32, 6, 7, 20000)\n"
     ]
    }
   ],
   "source": [
    "import numpy as np\n",
    "from sklearn.preprocessing import LabelEncoder\n",
    "\n",
    "X1 = np.array(list(cl08.values()))\n",
    "X2 = np.array(list(cl32.values()))\n",
    "# transformando labels categóricos em numéricos\n",
    "le = LabelEncoder()\n",
    "y1 = np.array(le.fit_transform(list(cl08.keys())))\n",
    "y2 = np.array(le.fit_transform(list(cl32.keys())))\n",
    "# shape: [8 classes, 24 trials, 20000 samples, 7 eletrodos]\n",
    "print(X1.shape)\n",
    "# shape: [32 classes, 6 trials, 20000 samples, 7 eletrodos]\n",
    "print(X2.shape)\n",
    "print(y1)\n",
    "print(y2)\n",
    "\n",
    "X1 = X1.swapaxes(2, 3)\n",
    "X2 = X2.swapaxes(2, 3)\n",
    "print(X1.shape)\n",
    "print(X2.shape)"
   ]
  },
  {
   "cell_type": "markdown",
   "metadata": {},
   "source": [
    "## Segmentação dos dados ###\n",
    "\n",
    "Com amostras divididas em 10, 20, 40, 50, 80 e 90 partes e com tamanhos da sobreposição de ~10%, ~20%, ~30%, ~40%, ~50%, ~70%, ~90%:\n",
    "\n",
    "### Informações para segmentação nos dados no domínio do tempo:\n",
    "\n",
    "##### ~10% de sobreposição:\n",
    "* 10 partes = (salto = 1848, segmento = 2048);\n",
    "* 20 partes = (salto = 992,  segmento = 1128);\n",
    "* 40 partes = (salto = 496,   segmento = 562);\n",
    "* 50 partes = (salto = 398,   segmento = 436);\n",
    "* 80 partes = (salto = 248,   segmento = 272);\n",
    "* 90 partes = (salto = 220,   segmento = 244).\n",
    "\n",
    "##### ~20% de sobreposição:\n",
    "* 10 partes = (salto = 1920, segmento = 2400);\n",
    "* 20 partes = (salto = 986,  segmento = 1240);\n",
    "* 40 partes = (salto = 488,  segmento =  608);\n",
    "* 50 partes = (salto = 396,  segmento =  492);\n",
    "* 80 partes = (salto = 248,  segmento =  312); \n",
    "* 90 partes = (salto = 276,  segmento =  220).\n",
    "\n",
    "##### ~30% de sobreposição:\n",
    "* 10 partes = (salto = 1880, segmento = 2648);\n",
    "* 20 partes = (salto = 966,  segmento = 1380);\n",
    "* 40 partes = (salto = 492,  segmento =  702);\n",
    "* 50 partes = (salto = 392,  segmento =  560);\n",
    "* 80 partes = (salto = 248,  segmento =  352); \n",
    "* 90 partes = (salto = 220,  segmento =  312);\n",
    "\n",
    "##### ~40% de sobreposição:\n",
    "* 10 partes = (salto = 1766,segmento = 2944);\n",
    "* 20 partes = (salto = 924, segmento = 1540);\n",
    "* 40 partes = (salto = 484, segmento = 808 );\n",
    "* 50 partes = (salto = ?, segmento = ? );\n",
    "* 80 partes = (salto = ?, segmento = ? ); \n",
    "* 90 partes = (salto = ?, segmento = ? );\n",
    "\n",
    "##### ~50% de sobreposição:\n",
    "* 10 partes = (salto = ?, segmento = ? );\n",
    "* 20 partes = (salto = ?, segmento = ? );\n",
    "* 40 partes = (salto = ?, segmento = ? );\n",
    "* 50 partes = (salto = ?, segmento = ? );\n",
    "* 80 partes = (salto = ?, segmento = ? ); \n",
    "* 90 partes = (salto = ?, segmento = ? );\n",
    "\n",
    "##### ~70% de sobreposição:\n",
    "* 10 partes = (salto = ?, segmento = ? );\n",
    "* 20 partes = (salto = ?, segmento = ? );\n",
    "* 40 partes = (salto = ?, segmento = ? );\n",
    "* 50 partes = (salto = ?, segmento = ? );\n",
    "* 80 partes = (salto = ?, segmento = ? ); \n",
    "* 90 partes = (salto = ?, segmento = ? );\n",
    "\n",
    "##### ~90% de sobreposição:\n",
    "* 10 partes = (salto = ?, segmento = ? );\n",
    "* 20 partes = (salto = ?, segmento = ? );\n",
    "* 40 partes = (salto = ?, segmento = ? );\n",
    "* 50 partes = (salto = ?, segmento = ? );\n",
    "* 80 partes = (salto = ?, segmento = ? ); \n",
    "* 90 partes = (salto = ?, segmento = ? );"
   ]
  },
  {
   "cell_type": "code",
   "execution_count": 5,
   "metadata": {},
   "outputs": [
    {
     "name": "stdout",
     "output_type": "stream",
     "text": [
      "(8, 24, 7, 20000)\n",
      "(8, 24, 7, 40, 808)\n",
      "(32, 6, 7, 20000)\n",
      "(32, 6, 7, 40, 808)\n"
     ]
    }
   ],
   "source": [
    "print(X1.shape)\n",
    "# definição do salto e do tamanho do segmento (segmento - salto = sobreposição)\n",
    "salto = 484\n",
    "segmento = 808\n",
    "n_win = int((X1.shape[-1] - segmento) / salto) + 1\n",
    "ids = np.arange(n_win) * salto\n",
    "x_8 = np.array([X1[:,:,:,k:(k + segmento)] for k in ids]).transpose(1, 2, 3, 0, 4)\n",
    "print(x_8.shape)\n",
    "\n",
    "print(X2.shape)\n",
    "# definição do salto e do tamanho do segmento (segmento - salto = sobreposição)\n",
    "n_win = int((X2.shape[-1] - segmento) / salto) + 1\n",
    "ids = np.arange(n_win) * salto\n",
    "x_32 = np.array([X2[:,:,:,k:(k + segmento)] for k in ids]).transpose(1, 2, 3, 0, 4)\n",
    "print(x_32.shape)"
   ]
  },
  {
   "cell_type": "markdown",
   "metadata": {},
   "source": [
    "### Caracteristicas no domínio do tempo:\n",
    "\n",
    "* `Variance of EMG (VAR)`: \n",
    "    > $\\frac{1}{N-1}\\sum_{i=1}^{N}x_i^2$\n",
    "* `Root Mean Square (RMS)`:\n",
    "    > $\\sqrt{\\frac{1}{N-1}\\sum_{i=1}^{N}|x_i|^2}$\n",
    "* `Mean Absolute Value (MAV)`:\n",
    "    > $\\frac{1}{N}\\sum_{i=1}^{N}|x_i|$\n",
    "* `Zero Crossing (ZC)`:\n",
    "    > $\\sum_{i=1}^{N}sgn(-x_i x_{i+1})$\n",
    "  onde sgn(X) = 1 se X > 0 | 0 caso contrário\n",
    "* `Waveform length (WL)`:\n",
    "    > $\\sum_{i=1}^{N-1}|x_i-x_{i+1}|$\n",
    "* `Simple Square Integral (SSI)`:\n",
    "    > $\\sum_{i=1}^{N}x_i^2$"
   ]
  },
  {
   "cell_type": "code",
   "execution_count": 49,
   "metadata": {},
   "outputs": [
    {
     "name": "stdout",
     "output_type": "stream",
     "text": [
      "(8, 24, 7, 40)\n",
      "(32, 6, 7, 40)\n",
      "(8, 24, 7, 40)\n",
      "(32, 6, 7, 40)\n",
      "(8, 24, 7, 40)\n",
      "(32, 6, 7, 40)\n",
      "(8, 24, 7, 40)\n",
      "(32, 6, 7, 40)\n",
      "(8, 24, 7, 40)\n",
      "(32, 6, 7, 40)\n",
      "(8, 24, 7, 40)\n",
      "(32, 6, 7, 40)\n"
     ]
    }
   ],
   "source": [
    "# VAR\n",
    "var_8  = np.sum(x_8 ** 2, axis=-1) / (np.prod(x_8.shape[:-1]) - 1)\n",
    "var_32 = np.sum(x_32 ** 2, axis=-1) / (np.prod(x_32.shape[:-1]) - 1)\n",
    "print(var_8.shape)\n",
    "print(var_32.shape)\n",
    "\n",
    "# RMS\n",
    "rms_8  = np.sqrt(np.sum(np.abs(x_8) ** 2, axis=-1) / (np.prod(x_8.shape[:-1]) - 1))\n",
    "rms_32 = np.sqrt(np.sum(np.abs(x_32) ** 2, axis=-1) / (np.prod(x_32.shape[:-1]) - 1))\n",
    "print(rms_8.shape)\n",
    "print(rms_32.shape)\n",
    "\n",
    "# MAV\n",
    "mav_8  = np.sum(np.abs(x_8), axis=-1) / (np.prod(x_8.shape[:-1]))\n",
    "mav_32 = np.sum(np.abs(x_32), axis=-1) / (np.prod(x_32.shape[:-1]))\n",
    "print(mav_8.shape)\n",
    "print(mav_32.shape)\n",
    "\n",
    "# ZC\n",
    "def zc(x):\n",
    "    for ind, value in np.ndenumerate(x):\n",
    "        i, j, k, l, m = ind\n",
    "        if (m+1 < x.shape[-1]): x[ind] = (1 if (((value*(-1))*x[i, j, k, l, m+1]) > 0) else 0)\n",
    "        else:\n",
    "            x[ind] = 0\n",
    "    return x\n",
    "\n",
    "#zc_8 = zc(x_8)                    #Descomentar para executar ZC na primeira vez\n",
    "#zc_8 = np.sum(zc_8, axis=-1)      #Descomentar para executar ZC (demorando um pouco..)\n",
    "print(zc_8.shape)\n",
    "#zc_32 = zc(x_32)                  #Descomentar para executar ZC\n",
    "#zc_32 = np.sum(zc_32, axis=-1)    #Descomentar para executar ZC\n",
    "print(zc_32.shape)\n",
    "\n",
    "#WL\n",
    "wl_8 = np.sum(np.abs(np.diff(x_8, axis=-1)), axis=-1)\n",
    "print(wl_8.shape)\n",
    "wl_32 = np.sum(np.abs(np.diff(x_32, axis=-1)), axis=-1)\n",
    "print(wl_32.shape)\n",
    "\n",
    "#SSI\n",
    "ssi_8 = np.sum(x_8 ** 2, axis=-1)\n",
    "ssi_32 = np.sum(x_32 ** 2, axis=-1)\n",
    "print(ssi_8.shape)\n",
    "print(ssi_32.shape)"
   ]
  },
  {
   "cell_type": "markdown",
   "metadata": {},
   "source": [
    "##### Transformação para domínio da frequencia\n",
    "\n",
    "##### ~10% de sobreposição:\n",
    "* 10 partes = (nperseg = 2560, noverlap = 256);\n",
    "* 20 partes = (nperseg = 1216, noverlap = 128);\n",
    "* 40 partes = (nperseg = 586,   noverlap = 60);\n",
    "* 50 partes = (nperseg = 464,   noverlap = 48);\n",
    "* 80 partes = (nperseg = 282,   noverlap = 28);\n",
    "* 90 partes = (nperseg = 250,   noverlap = 24).\n",
    "\n",
    "##### ~20% de sobreposição:\n",
    "* 10 partes = (nperseg = 2816, noverlap = 564);\n",
    "* 20 partes = (nperseg = 1344, noverlap = 268);\n",
    "* 40 partes = (nperseg = 656,  noverlap = 132);\n",
    "* 50 partes = (nperseg = 520,  noverlap = 104);\n",
    "* 80 partes = (nperseg = 318,   noverlap = 64);\n",
    "* 90 partes = (nperseg = 282,   noverlap = 56).\n",
    "\n",
    "##### ~30% de sobreposição:\n",
    "* 10 partes = (nperseg = 3200, noverlap = 960);\n",
    "* 20 partes = (nperseg = 1536, noverlap = 460);\n",
    "* 40 partes = (nperseg = 736,  noverlap = 220);\n",
    "* 50 partes = (nperseg = 592,  noverlap = 178);\n",
    "* 80 partes = (nperseg = 362,  noverlap = 108);\n",
    "* 90 partes = (nperseg = 324,   noverlap = 98).\n",
    "\n",
    "##### ~40% de sobreposição:\n",
    "* 10 partes = (nperseg = , noverlap = );\n",
    "* 20 partes = (nperseg = , noverlap = );\n",
    "* 40 partes = (nperseg = ,   noverlap = );\n",
    "* 50 partes = (nperseg = ,   noverlap = );\n",
    "* 80 partes = (nperseg = ,   noverlap = );\n",
    "* 90 partes = (nperseg = ,   noverlap = ).\n",
    "\n",
    "##### ~50% de sobreposição:\n",
    "* 10 partes = (nperseg = , noverlap = );\n",
    "* 20 partes = (nperseg = , noverlap = );\n",
    "* 40 partes = (nperseg = ,   noverlap = );\n",
    "* 50 partes = (nperseg = ,   noverlap = );\n",
    "* 80 partes = (nperseg = ,   noverlap = );\n",
    "* 90 partes = (nperseg = ,   noverlap = )..\n",
    "\n",
    "##### ~70% de sobreposição:\n",
    "* 10 partes = (nperseg = , noverlap = );\n",
    "* 20 partes = (nperseg = , noverlap = );\n",
    "* 40 partes = (nperseg = ,   noverlap = );\n",
    "* 50 partes = (nperseg = ,   noverlap = );\n",
    "* 80 partes = (nperseg = ,   noverlap = );\n",
    "* 90 partes = (nperseg = ,   noverlap = )..\n",
    "\n",
    "##### ~90% de sobreposição:\n",
    "* 10 partes = (nperseg = , noverlap = );\n",
    "* 20 partes = (nperseg = , noverlap = );\n",
    "* 40 partes = (nperseg = ,   noverlap = );\n",
    "* 50 partes = (nperseg = ,   noverlap = );\n",
    "* 80 partes = (nperseg = ,   noverlap = );\n",
    "* 90 partes = (nperseg = ,   noverlap = ).\n",
    "\n"
   ]
  },
  {
   "cell_type": "code",
   "execution_count": 50,
   "metadata": {},
   "outputs": [
    {
     "name": "stdout",
     "output_type": "stream",
     "text": [
      "(8, 24, 7, 20000)\n",
      "(8, 24, 7, 40, 369)\n",
      "(32, 6, 7, 20000)\n",
      "(32, 6, 7, 20, 609)\n"
     ]
    }
   ],
   "source": [
    "from scipy.signal import stft\n",
    "\n",
    "print(X1.shape)\n",
    "_, _, w = stft(X1, fs=4000, nperseg=736, noverlap=220)\n",
    "w = np.swapaxes(w, 3, 4)\n",
    "print(w.shape)\n",
    "\n",
    "print(X2.shape)\n",
    "_, _, z = stft(X2, fs=4000, nperseg=1216, noverlap=128)\n",
    "z = np.swapaxes(z, 3, 4)\n",
    "print(z.shape)"
   ]
  },
  {
   "cell_type": "markdown",
   "metadata": {},
   "source": [
    "### Características no domínio da frequencia\n",
    "\n",
    "* `Frequency Median (FMD)`:\n",
    "    > $\\frac{1}{2}\\sum_{i=1}^{M}PSD$\n",
    "* `Modified Median Frequency (MMDF)`:\n",
    "    > $\\frac{1}{2}\\sum_{i=1}^{M}A_j$\n",
    "* `Mean Power (MP)`:\n",
    "    > $\\frac{1}{M}\\sum_{i=1}^{M}P_i$\n",
    "* `Peak Frequency (PKF)`:\n",
    "    > $max(P_i), i=1,...,M$"
   ]
  },
  {
   "cell_type": "code",
   "execution_count": 51,
   "metadata": {},
   "outputs": [
    {
     "name": "stdout",
     "output_type": "stream",
     "text": [
      "(8, 24, 7, 40)\n",
      "(32, 6, 7, 20)\n",
      "(8, 24, 7, 40)\n",
      "(32, 6, 7, 20)\n",
      "(8, 24, 7, 40)\n",
      "(32, 6, 7, 20)\n",
      "(8, 24, 7, 40)\n",
      "(32, 6, 7, 20)\n"
     ]
    }
   ],
   "source": [
    "# definição da função PSD para o sinal no domínio da frequência\n",
    "def PSD(x):\n",
    "    return np.sqrt(np.abs(x))\n",
    "\n",
    "# FMD\n",
    "fmd_8 = np.sum(PSD(w), axis=-1) / 2\n",
    "fmd_32 = np.sum(PSD(z), axis=-1) / 2\n",
    "print(fmd_8.shape)\n",
    "print(fmd_32.shape)\n",
    "\n",
    "# MMDF\n",
    "mmdf_8 = np.sum(np.abs(w), axis=-1) / 2\n",
    "mmdf_32 = np.sum(np.abs(z), axis=-1) / 2\n",
    "print(mmdf_8.shape)\n",
    "print(mmdf_32.shape)\n",
    "\n",
    "#MP\n",
    "mp_8 = np.real(np.sum(w, axis=-1) / (np.prod(w.shape[:-1]))) \n",
    "mp_32 = np.real(np.sum(z, axis=-1) / (np.prod(z.shape[:-1]))) \n",
    "print(mp_8.shape)\n",
    "print(mp_32.shape)\n",
    "\n",
    "#PKF\n",
    "pkf_8 = np.real(np.max(w, axis=-1))\n",
    "pkf_32 = np.real(np.max(z, axis=-1))\n",
    "print(pkf_8.shape)\n",
    "print(pkf_32.shape)\n"
   ]
  },
  {
   "cell_type": "markdown",
   "metadata": {},
   "source": [
    "### Vetor de características"
   ]
  },
  {
   "cell_type": "code",
   "execution_count": 56,
   "metadata": {},
   "outputs": [
    {
     "name": "stdout",
     "output_type": "stream",
     "text": [
      "Feature: [[2.71594727 3.47711758 9.77935422 ... 9.36951927 3.49331284 3.57303598]\n",
      " [2.90849263 4.04003035 9.84606439 ... 7.92276728 3.93537543 2.98444844]\n",
      " [2.86594703 3.95873071 8.35683735 ... 7.71016319 3.8868443  2.85104305]\n",
      " ...\n",
      " [2.78067935 3.99210657 8.72368614 ... 6.47208419 3.61067164 2.99245604]\n",
      " [2.82207889 3.80862371 9.04968927 ... 5.85300005 3.38188101 2.85588315]\n",
      " [1.9857196  3.51256975 9.22378052 ... 4.18843877 3.38770887 2.40031102]] (7680, 7)\n",
      "Feature: [[0.0842384  0.13714626 1.05278827 ... 1.0010851  0.19369028 0.11529584]\n",
      " [0.10392894 0.25996687 1.57037235 ... 1.1135238  0.26204607 0.11637709]\n",
      " [0.10120799 0.24671305 1.09727838 ... 1.0959483  0.23909547 0.11193189]\n",
      " ...\n",
      " [0.09777364 0.26440842 1.30292832 ... 0.70801129 0.18597263 0.12042253]\n",
      " [0.09716157 0.22812454 1.39545271 ... 0.55259207 0.16274498 0.1072439 ]\n",
      " [0.05032287 0.13590309 0.61916389 ... 0.30300867 0.08653622 0.05712587]] (7680, 7)\n",
      "Feature: [[ 2.04211515e-09  4.36427070e-08 -5.30788233e-08 ... -5.08602930e-08\n",
      "  -3.28653801e-08  2.43593324e-08]\n",
      " [ 1.68201018e-08  6.26121969e-08 -6.70859812e-09 ... -8.48277157e-08\n",
      "  -7.13216096e-08  3.60294373e-08]\n",
      " [ 1.51467370e-08  5.98002813e-08 -6.73259709e-09 ... -8.51272820e-08\n",
      "  -6.49154872e-08  3.45093225e-08]\n",
      " ...\n",
      " [ 4.31863406e-08  9.02526350e-08  2.11221436e-08 ... -5.38980789e-08\n",
      "  -4.00696986e-08  6.11762649e-08]\n",
      " [ 4.25205138e-08  8.96226184e-08  1.91502558e-08 ... -5.79848594e-08\n",
      "  -3.89879327e-08  6.17260266e-08]\n",
      " [ 2.33887695e-08  1.90111288e-08 -5.78567882e-08 ... -9.13489389e-08\n",
      "   4.01418749e-09  3.64313996e-08]] (7680, 7)\n",
      "Feature: [[0.00507835 0.00487638 0.04307536 ... 0.04874188 0.01272153 0.01096747]\n",
      " [0.00764247 0.01411088 0.08445888 ... 0.05440638 0.02540432 0.00387458]\n",
      " [0.00432238 0.01208772 0.05063652 ... 0.08838961 0.01754633 0.00728684]\n",
      " ...\n",
      " [0.00532501 0.01572246 0.0760598  ... 0.03437292 0.01401078 0.00826723]\n",
      " [0.00457009 0.01564986 0.06424985 ... 0.04828768 0.00885667 0.00746507]\n",
      " [0.00264465 0.00644998 0.01583595 ... 0.02412534 0.00426787 0.00388078]] (7680, 7)\n"
     ]
    },
    {
     "data": {
      "text/plain": [
       "(7680, 28)"
      ]
     },
     "execution_count": 56,
     "metadata": {},
     "output_type": "execute_result"
    }
   ],
   "source": [
    "features = list()\n",
    "#Implementar 'COMBINATIONS' com as caracteristicas\n",
    "for feature in (fmd_8, mmdf_8, mp_8, pkf_8):\n",
    "    feature = feature.transpose(0, 1, 3, 2)\n",
    "    feature = feature.reshape(var_8.shape[0] * var_8.shape[1] * var_8.shape[-1], 7)\n",
    "    print('Feature: {}'.format(feature), feature.shape)\n",
    "    features.append(feature)\n",
    "\n",
    "X = np.concatenate(features, axis=-1)\n",
    "X.shape\n",
    "\n",
    "#features = list()\n",
    "#for feature in (fmd_32, mp_32):\n",
    "#    feature = feature.transpose(0, 1, 3, 2)\n",
    "#    feature = feature.reshape(var_32.shape[0] * var_32.shape[1] * var_32.shape[-1], 7)\n",
    "#    print('Feature: {}'.format(feature), feature.shape)\n",
    "#    features.append(feature)\n",
    "#\n",
    "#X = np.concatenate(features, axis=-1)\n",
    "#X.shape"
   ]
  },
  {
   "cell_type": "markdown",
   "metadata": {},
   "source": [
    "Vetor de labels"
   ]
  },
  {
   "cell_type": "code",
   "execution_count": 57,
   "metadata": {},
   "outputs": [
    {
     "data": {
      "text/plain": [
       "(7680,)"
      ]
     },
     "execution_count": 57,
     "metadata": {},
     "output_type": "execute_result"
    }
   ],
   "source": [
    "y = np.array([[str(i)] * int(X.shape[0] / 8) for i in range(8)]) #switch 8 - 32\n",
    "y = y.reshape(y.shape[0] * y.shape[1])\n",
    "y.shape"
   ]
  },
  {
   "cell_type": "markdown",
   "metadata": {},
   "source": [
    "## Classificador SVM"
   ]
  },
  {
   "cell_type": "code",
   "execution_count": 58,
   "metadata": {},
   "outputs": [
    {
     "data": {
      "text/plain": [
       "SVC(gamma='auto')"
      ]
     },
     "execution_count": 58,
     "metadata": {},
     "output_type": "execute_result"
    }
   ],
   "source": [
    "from sklearn.model_selection import train_test_split\n",
    "from sklearn.svm import SVC\n",
    "\n",
    "# treino e teste em 70 e 30% respectivamente\n",
    "X_train, X_test, y_train, y_test = train_test_split(X, y, test_size=0.3, shuffle=True)\n",
    "\n",
    "# testar outros classificadores e definir parametrização\n",
    "clf = SVC(gamma='auto')\n",
    "clf.fit(X_train, y_train)"
   ]
  },
  {
   "cell_type": "markdown",
   "metadata": {},
   "source": [
    "Rotina Simples"
   ]
  },
  {
   "cell_type": "code",
   "execution_count": 59,
   "metadata": {},
   "outputs": [
    {
     "name": "stdout",
     "output_type": "stream",
     "text": [
      "Acurácia: 94.10%\n"
     ]
    }
   ],
   "source": [
    "res = clf.predict(X_test)\n",
    "tot_hit = sum([1 for i in range(len(res)) if res[i] == y_test[i]])\n",
    "print('Acurácia: {:.2f}%'.format(tot_hit / X_test.shape[0] * 100))"
   ]
  },
  {
   "cell_type": "markdown",
   "metadata": {},
   "source": [
    "### Resultados parciais com as 8 classe, 4 características e ~10% de sobreposição:\n",
    "\n",
    "###### 10 partes: 93.23%\n",
    "###### 20 partes: 91.75%\n",
    "###### 40 partes: 91.88%\n",
    "###### 50 partes: 90.31%\n",
    "###### 80 partes: 87.33%\n",
    "###### 90 partes: 85.47%\n",
    "\n",
    "### Resultados parciais com as 32 classe, 4 características e ~10% de sobreposição:\n",
    "\n",
    "###### 10 partes: 82.47%\n",
    "###### 20 partes: 84.90%\n",
    "###### 40 partes: 82.55%\n",
    "###### 50 partes: 78.82%\n",
    "###### 80 partes: 73.83%\n",
    "###### 90 partes: 70.93%"
   ]
  },
  {
   "cell_type": "code",
   "execution_count": null,
   "metadata": {},
   "outputs": [],
   "source": []
  }
 ],
 "metadata": {
  "kernelspec": {
   "display_name": "Python 3",
   "language": "python",
   "name": "python3"
  },
  "language_info": {
   "codemirror_mode": {
    "name": "ipython",
    "version": 3
   },
   "file_extension": ".py",
   "mimetype": "text/x-python",
   "name": "python",
   "nbconvert_exporter": "python",
   "pygments_lexer": "ipython3",
   "version": "3.6.7"
  }
 },
 "nbformat": 4,
 "nbformat_minor": 4
}
